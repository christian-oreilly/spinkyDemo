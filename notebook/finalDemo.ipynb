{
 "cells": [
  {
   "cell_type": "markdown",
   "metadata": {},
   "source": [
    "Installing required resources\n",
    "----------------"
   ]
  },
  {
   "cell_type": "code",
   "execution_count": null,
   "metadata": {
    "collapsed": false
   },
   "outputs": [],
   "source": [
    "# Using pip3 to install for Python 3.x; remove the quiet flag (-q) if you want to see the output\n",
    "\n",
    "# Standard downloads\n",
    "!pip3 -q install numpy scipy pandas matplotlib pymatbridge seaborn --user\n",
    "\n",
    "# The spinkyDemo package, which provide a set of utilitary functions useful to avoid clutering \n",
    "# this example with a lot of code.\n",
    "!pip3 -q install git+https://github.com/christian-oreilly/spinkyDemo.git --user --upgrade\n",
    "\n",
    "# Cloning the SPINKY Matlab Git repository\n",
    "import os\n",
    "if not os.path.isdir(\"SPINKY\"):\n",
    "    !git clone https://github.com/TarekLaj/SPINKY.git\n",
    "        \n",
    "# Downloading an example of EEG + scoring from the DREAMS database        \n",
    "# for the spindle example...\n",
    "!wget \"http://www.tcts.fpms.ac.be/~devuyst/Databases/DatabaseSpindles/excerpt1.txt\"\n",
    "!wget \"http://www.tcts.fpms.ac.be/~devuyst/Databases/DatabaseSpindles/Visual_scoring1_excerpt1.txt\"   \n",
    "\n",
    "# for the K-complex example\n",
    "!wget \"http://www.tcts.fpms.ac.be/~devuyst/Databases/DatabaseKcomplexes/excerpt2.txt\"\n",
    "!wget \"http://www.tcts.fpms.ac.be/~devuyst/Databases/DatabaseKcomplexes/Visual_scoring1_excerpt2.txt\""
   ]
  },
  {
   "cell_type": "markdown",
   "metadata": {},
   "source": [
    "Importing required functions and packages\n",
    "--------------"
   ]
  },
  {
   "cell_type": "code",
   "execution_count": 42,
   "metadata": {
    "collapsed": false
   },
   "outputs": [],
   "source": [
    "# Standard imports\n",
    "import numpy as np\n",
    "from scipy.io import savemat \n",
    "import sys\n",
    "import os\n",
    "from glob import glob\n",
    "import pandas as pd\n",
    "import seaborn as sb\n",
    "import matplotlib.pylab as plt\n",
    "\n",
    "# Imports from spinkyDemo\n",
    "from spinkyDemo import training_process, test_process, readDetectorOutput\n",
    "from spinkyDemo import sensitivity, specificity, PPV, MCC, cohenk, F1"
   ]
  },
  {
   "cell_type": "markdown",
   "metadata": {},
   "source": [
    "Defining some constants...\n",
    "---------------------------"
   ]
  },
  {
   "cell_type": "code",
   "execution_count": 52,
   "metadata": {
    "collapsed": true
   },
   "outputs": [],
   "source": [
    "# Constants\n",
    "spinkyPath   = os.path.join(os.getcwd(), 'SPINKY')\n",
    "pageDuration = 30.0        # Page length, in seconds\n",
    "nbTrainPage  = 20          # Number of pages to use for the training  \n",
    "mode         = 'spindles'  # change to 'kcomplex' for K-complexes\n",
    "\n",
    "if mode == \"spindles\":\n",
    "    eegFileName     = \"excerpt1.txt\"\n",
    "    scoringFileName = \"Visual_scoring1_excerpt1.txt\"\n",
    "    subjectName     = \"exerpt1\"\n",
    "    fs              = 100.0       # Sampling frequency, in Hz\n",
    "    outputFileName  = \"score_auto_spindles_\" + subjectName + \".txt\"\n",
    "    from spinkyDemo import sp_thresholds_ranges as thresholds_ranges \n",
    "    \n",
    "elif mode == \"kcomplex\":\n",
    "    eegFileName     = \"excerpt2.txt\"\n",
    "    scoringFileName = \"Visual_scoring1_excerpt2.txt\"\n",
    "    subjectName     = \"exerpt2\"\n",
    "    fs              = 200.0       # Sampling frequency, in Hz   \n",
    "    outputFileName  = \"score_auto_Kcomplex_\" + subjectName + \".txt\"    \n",
    "    from spinkyDemo import kp_thresholds_ranges as thresholds_ranges \n",
    "    \n",
    "else:\n",
    "    raise ValueError"
   ]
  },
  {
   "cell_type": "markdown",
   "metadata": {},
   "source": [
    "Preparing the training and testing signals\n",
    "---------------------"
   ]
  },
  {
   "cell_type": "code",
   "execution_count": 53,
   "metadata": {
    "collapsed": false
   },
   "outputs": [],
   "source": [
    "eegSig          = pd.read_csv(eegFileName, names=[\"signal\"], skiprows=[0])[\"signal\"].values\n",
    "scoring         = pd.read_csv(scoringFileName, sep=\"\\t\", names=[\"start\", \"duration\"], skiprows=[0])\n",
    "scoringStart    = scoring[\"start\"].values\n",
    "scoringDuration = scoring[\"duration\"].values\n",
    "samplePerPage   = int(pageDuration*fs)\n",
    "numberOfPages   = int(len(eegSig)/samplePerPage)\n",
    "\n",
    "# Getting signals based on two mutually exclusive set of pages for training and testing\n",
    "np.random.seed(42)\n",
    "pageIds      = range(numberOfPages)\n",
    "trainPageIds = np.random.choice(pageIds, nbTrainPage, replace=False)\n",
    "trainSig     = eegSig[np.concatenate([np.arange(samplePerPage)+i*samplePerPage \n",
    "                                      for i in pageIds if i in trainPageIds])]\n",
    "testSig      = eegSig[np.concatenate([np.arange(samplePerPage)+i*samplePerPage \n",
    "                                      for i in pageIds if not i in trainPageIds])]\n",
    "\n",
    "# Calculating the number of spindles scored in the training pages\n",
    "def eventInPage(eventStart, pageId):\n",
    "    pageStart = pageId*pageDuration\n",
    "    pageEnd   = pageStart + pageDuration    \n",
    "    return (eventStart >= pageStart)*(eventStart < pageEnd)\n",
    "\n",
    "nbEvents = [sum(eventInPage(scoringStart, pageId)) for pageId in trainPageIds]"
   ]
  },
  {
   "cell_type": "markdown",
   "metadata": {},
   "source": [
    "Starting Matlab and adding necessary paths to Matlab environement variable\n",
    "--------"
   ]
  },
  {
   "cell_type": "code",
   "execution_count": 54,
   "metadata": {
    "collapsed": false
   },
   "outputs": [
    {
     "name": "stdout",
     "output_type": "stream",
     "text": [
      "Starting MATLAB on ZMQ socket ipc:///tmp/pymatbridge-279fa452-b995-4650-8b52-9c6e737683ad\n",
      "Send 'exit' command to kill the server\n",
      "......MATLAB started and connected!\n"
     ]
    }
   ],
   "source": [
    "from pymatbridge import Matlab\n",
    "mlab = Matlab(maxtime=60) #Matlab(matlab='C:/Program Files/MATLAB/R2015a/bin/matlab.exe')\n",
    "mlab.start()\n",
    "\n",
    "matlabCode = \\\n",
    "\"rootPath = '\" + spinkyPath + \"/'; \\n\" + \"\"\"\n",
    "addpath(rootPath) \n",
    "addpath([rootPath 'functions'])\n",
    "addpath([rootPath 'functions/tqwt_matlab_toolbox/tqwt_matlab_toolbox'])\n",
    "\"\"\"\n",
    "result = mlab.run_code(matlabCode)"
   ]
  },
  {
   "cell_type": "markdown",
   "metadata": {},
   "source": [
    "Example of threshold estimation (for spindles detection)\n",
    "---------------"
   ]
  },
  {
   "cell_type": "code",
   "execution_count": 55,
   "metadata": {
    "collapsed": false
   },
   "outputs": [],
   "source": [
    "threshold = thresholds_ranges(mlab, trainSig, samplePerPage, fs)[0]"
   ]
  },
  {
   "cell_type": "code",
   "execution_count": 56,
   "metadata": {
    "collapsed": false
   },
   "outputs": [
    {
     "name": "stdout",
     "output_type": "stream",
     "text": [
      "Threshold: 18\n"
     ]
    }
   ],
   "source": [
    "threshold = training_process(mlab, trainSig, fs, samplePerPage, mode, threshold, nbEvents)\n",
    "print(\"Threshold:\", threshold) "
   ]
  },
  {
   "cell_type": "markdown",
   "metadata": {},
   "source": [
    "Example of spindle detection\n",
    "---------------"
   ]
  },
  {
   "cell_type": "code",
   "execution_count": 57,
   "metadata": {
    "collapsed": false
   },
   "outputs": [
    {
     "data": {
      "text/plain": [
       "array([[ 0.,  0.,  1.,  2.,  1.,  2.,  4.,  1.,  1.,  2.,  2.,  0.,  2.,\n",
       "         3.,  3.,  4.,  3.,  2.,  4.,  4.,  5.,  4.,  5.,  4.,  4.,  4.,\n",
       "         3.,  4.,  4.,  4.,  2.,  3.,  3.,  5.,  3.,  3.,  4.,  3.,  3.,\n",
       "         2.]])"
      ]
     },
     "execution_count": 57,
     "metadata": {},
     "output_type": "execute_result"
    }
   ],
   "source": [
    "# This call create a file named score_auto_YYYYYY_XXXXXX.txt where XXXXXX is the value of subjectName\n",
    "# and YYYYYY takes eithers spindles or Kcomplex depending on the value of mode.\n",
    "test_process(mlab, testSig, fs, samplePerPage, subjectName, threshold, mode)"
   ]
  },
  {
   "cell_type": "markdown",
   "metadata": {},
   "source": [
    "Closing Matlab\n",
    "-----------------------"
   ]
  },
  {
   "cell_type": "code",
   "execution_count": 58,
   "metadata": {
    "collapsed": false
   },
   "outputs": [
    {
     "data": {
      "text/plain": [
       "{'content': {'stdout': 'Too many output arguments.'},\n",
       " 'result': '',\n",
       " 'success': False}"
      ]
     },
     "execution_count": 58,
     "metadata": {},
     "output_type": "execute_result"
    }
   ],
   "source": [
    "mlab.quit()"
   ]
  },
  {
   "cell_type": "markdown",
   "metadata": {},
   "source": [
    "Example of performance assessment\n",
    "---------------"
   ]
  },
  {
   "cell_type": "code",
   "execution_count": 59,
   "metadata": {
    "collapsed": false
   },
   "outputs": [
    {
     "name": "stdout",
     "output_type": "stream",
     "text": [
      "\n",
      "sensitivity=0.705687, specificity=0.551599, PPV=0.046693,  MCC=0.088379, CohenK=0.032830, F1=0.087591\n",
      "\n"
     ]
    }
   ],
   "source": [
    "def makeIndexSignal(events, epoch_length, fs):    \n",
    "    index = np.zeros((int(epoch_length*fs), 1))\n",
    "    for s, e in events:\n",
    "        index[int(np.round(s*fs)):int(np.round(e*fs))] = 1\n",
    "    return index\n",
    "    \n",
    "    \n",
    "def compute2classComp(indGold, indTest):    \n",
    "    \n",
    "    TP = np.logical_and(indGold, indTest)\n",
    "    TN = np.logical_and(np.logical_not(indGold), np.logical_not(indTest)) \n",
    "    FP = np.logical_and(np.logical_not(indGold), indTest)\n",
    "    FN = np.logical_and(indGold, np.logical_not(indTest))\n",
    "\n",
    "    return TP, TN, FP, FN\n",
    "\n",
    "\n",
    "def prinResults(TP, TN, FP, FN):\n",
    "    res = ( sensitivity(TP, TN, FP, FN), \n",
    "            specificity(TP, TN, FP, FN),\n",
    "            PPV(TP, TN, FP, FN), \n",
    "            MCC(TP, TN, FP, FN),\n",
    "            cohenk(TP, TN, FP, FN), \n",
    "            F1(TP, TN, FP, FN))\n",
    "    print((\"sensitivity=%f, specificity=%f, PPV=%f,  MCC=%f, CohenK=%f, F1=%f\" % res))     \n",
    "    return res\n",
    "\n",
    "detectedEvents = readDetectorOutput(outputFileName, mode)\n",
    "\n",
    "TP = []\n",
    "TN = [] \n",
    "FP = []\n",
    "FN = []\n",
    "\n",
    "indGoldAll = []\n",
    "indTestAll = []\n",
    "\n",
    "detectedPageNo = 0\n",
    "for pageId in pageIds:\n",
    "    if pageId in trainPageIds:\n",
    "        continue\n",
    "        \n",
    "    detectedPageNo += 1\n",
    "        \n",
    "    pageStart = pageId*pageDuration\n",
    "    pageEnd   = pageStart + pageDuration  \n",
    "    \n",
    "    eventPage = []\n",
    "    if mode == \"spindles\":\n",
    "        eventPage = [(eStart - pageStart, eStart + eDuration - pageStart) \n",
    "                        for eStart, eDuration in zip(scoringStart, scoringDuration) \n",
    "                                       if eventInPage(eStart, pageId)]\n",
    "\n",
    "        detectEventPage = [(event[\"start\"], event[\"end\"]) for index, event \n",
    "                             in detectedEvents[detectedEvents[\"page\"] == detectedPageNo].iterrows()]            \n",
    "        \n",
    "    elif mode == \"kcomplex\":\n",
    "        for eStart, eDuration in zip(scoringStart, scoringDuration):\n",
    "            if eventInPage(eStart, pageId):\n",
    "                sig = eegSig[np.arange(int(eStart*fs), int((eStart+eDuration)*fs))]                \n",
    "                pic = eStart - pageStart + float(np.argmin(sig))/fs\n",
    "                eventPage.append((pic-0.1, pic+1.3))    \n",
    "\n",
    "        detectEventPage = [(event[\"time\"]-0.1, event[\"time\"]+1.3) for index, event \n",
    "                             in detectedEvents[detectedEvents[\"page\"] == detectedPageNo].iterrows()]                \n",
    "                      \n",
    "    indGold = makeIndexSignal(eventPage, pageDuration, fs)\n",
    "    indTest = makeIndexSignal(detectEventPage, pageDuration, fs)\n",
    "\n",
    "    indGoldAll.extend(indGold)\n",
    "    indTestAll.extend(indTest)\n",
    "    \n",
    "    TPtmp, TNtmp, FPtmp, FNtmp = compute2classComp(indGold, indTest)\n",
    "    TP.extend(TPtmp)\n",
    "    TN.extend(TNtmp)\n",
    "    FP.extend(FPtmp)\n",
    "    FN.extend(FNtmp)\n",
    "\n",
    "print(\"\")\n",
    "prinResults(np.sum(TP, dtype=np.int64), \n",
    "            np.sum(TN, dtype=np.int64), \n",
    "            np.sum(FP, dtype=np.int64), \n",
    "            np.sum(FN, dtype=np.int64))\n",
    "print(\"\")"
   ]
  },
  {
   "cell_type": "code",
   "execution_count": 60,
   "metadata": {
    "collapsed": false
   },
   "outputs": [
    {
     "data": {
      "text/plain": [
       "<matplotlib.text.Text at 0x7f847d8da940>"
      ]
     },
     "execution_count": 60,
     "metadata": {},
     "output_type": "execute_result"
    },
    {
     "data": {
      "image/png": "[encoded data removed]",
      "text/plain": [
       "<matplotlib.figure.Figure at 0x7f84700b77b8>"
      ]
     },
     "metadata": {},
     "output_type": "display_data"
    }
   ],
   "source": [
    "%matplotlib inline\n",
    "\n",
    "fig, axes = plt.subplots(2, 1, sharex=True)\n",
    "axes[0].plot(np.arange(len(indGoldAll))/fs, indGoldAll)\n",
    "axes[0].set_title(\"Expert scoring\")\n",
    "\n",
    "axes[1].plot(np.arange(len(indTestAll))/fs, indTestAll)\n",
    "axes[1].set_title(\"Automated scoring\")\n",
    "axes[1].set_xlabel(\"time (s)\")\n"
   ]
  },
  {
   "cell_type": "code",
   "execution_count": null,
   "metadata": {
    "collapsed": true
   },
   "outputs": [],
   "source": []
  }
 ],
 "metadata": {
  "kernelspec": {
   "display_name": "Python 3",
   "language": "python",
   "name": "python3"
  },
  "language_info": {
   "codemirror_mode": {
    "name": "ipython",
    "version": 3
   },
   "file_extension": ".py",
   "mimetype": "text/x-python",
   "name": "python",
   "nbconvert_exporter": "python",
   "pygments_lexer": "ipython3",
   "version": "3.4.3"
  }
 },
 "nbformat": 4,
 "nbformat_minor": 0
}
