{
 "cells": [
  {
   "cell_type": "markdown",
   "metadata": {},
   "source": [
    "Installing required resources\n",
    "----------------"
   ]
  },
  {
   "cell_type": "code",
   "execution_count": null,
   "metadata": {
    "collapsed": false
   },
   "outputs": [],
   "source": [
    "# Using pip3 to install for Python 3.x; remove the quiet flag (-q) if you want to see the output\n",
    "\n",
    "# Standard downloads\n",
    "!pip3 -q install numpy cython scipy sqlalchemy pandas matplotlib pymatbridge --user\n",
    "\n",
    "# The spinkyDemo package, which provide a set of utilitary functions useful to avoid clutering \n",
    "# this example with a lot of code.\n",
    "!pip3 -q install git+https://github.com/christian-oreilly/spinkyDemo.git --user --upgrade\n",
    "\n",
    "# Cloning the SPINKY Matlab Git repository\n",
    "import os\n",
    "if not os.path.isdir(\"SPINKY\"):\n",
    "    !git clone https://github.com/TarekLaj/SPINKY.git\n",
    "        \n",
    "# Downloading an example of EEG + scoring from the DREAMS database        \n",
    "!wget \"http://www.tcts.fpms.ac.be/~devuyst/Databases/DatabaseSpindles/excerpt1.txt\"\n",
    "!wget \"http://www.tcts.fpms.ac.be/~devuyst/Databases/DatabaseSpindles/Visual_scoring1_excerpt1.txt\"   "
   ]
  },
  {
   "cell_type": "markdown",
   "metadata": {},
   "source": [
    "Importing required functions and packages\n",
    "--------------"
   ]
  },
  {
   "cell_type": "code",
   "execution_count": 1,
   "metadata": {
    "collapsed": false
   },
   "outputs": [
    {
     "name": "stderr",
     "output_type": "stream",
     "text": [
      "/home/oreilly/.local/lib/python3.4/site-packages/IPython/nbformat.py:13: ShimWarning: The `IPython.nbformat` package has been deprecated. You should import from nbformat instead.\n",
      "  \"You should import from nbformat instead.\", ShimWarning)\n"
     ]
    }
   ],
   "source": [
    "# Standard imports\n",
    "import numpy as np\n",
    "from scipy.io import savemat \n",
    "import sys\n",
    "import os\n",
    "from glob import glob\n",
    "import pandas as pd\n",
    "\n",
    "# Imports from spinkyDemo\n",
    "from spinkyDemo import training_process, test_process\n",
    "from spinkyDemo import sp_thresholds_ranges as thresholds_ranges  # import kp_thresholds_ranges for K-complexes"
   ]
  },
  {
   "cell_type": "markdown",
   "metadata": {},
   "source": [
    "Defining some constants...\n",
    "---------------------------"
   ]
  },
  {
   "cell_type": "code",
   "execution_count": 8,
   "metadata": {
    "collapsed": true
   },
   "outputs": [],
   "source": [
    "# Constants\n",
    "spinkyPath      = os.path.join(os.getcwd(), 'SPINKY')\n",
    "eegFileName     = \"excerpt1.txt\"\n",
    "scoringFileName = \"Visual_scoring1_excerpt1.txt\"\n",
    "subjectName     = \"exerpt1\"\n",
    "fs              = 100.0       # Sampling frequency, in Hz\n",
    "pageDuration    = 30.0        # Page length, in seconds\n",
    "mode            = 'spindles'  # use 'kcomplex' for K-complexes\n",
    "nbTrainPage     = 20          # Number of pages to use for the training  "
   ]
  },
  {
   "cell_type": "markdown",
   "metadata": {},
   "source": [
    "Preparing the training and testing signals\n",
    "---------------------"
   ]
  },
  {
   "cell_type": "code",
   "execution_count": 3,
   "metadata": {
    "collapsed": false
   },
   "outputs": [],
   "source": [
    "eegSig          = pd.read_csv(eegFileName, names=[\"signal\"], skiprows=[0])[\"signal\"].values\n",
    "scoring         = pd.read_csv(scoringFileName, sep=\"\\t\", names=[\"start\", \"duration\"], skiprows=[0])\n",
    "scoringStart    = scoring[\"start\"].values\n",
    "scoringDuration = scoring[\"duration\"].values\n",
    "samplePerPage   = int(pageDuration*fs)\n",
    "numberOfPages   = int(len(eegSig)/samplePerPage)\n",
    "\n",
    "# Getting signals based on two mutually exclusive set of pages for training and testing\n",
    "pageIds      = range(numberOfPages)\n",
    "trainPageIds = np.random.choice(pageIds, nbTrainPage, replace=False)\n",
    "trainSig     = eegSig[np.concatenate([np.arange(samplePerPage)+i*samplePerPage \n",
    "                                      for i in pageIds if i in trainPageIds])]\n",
    "testSig      = eegSig[np.concatenate([np.arange(samplePerPage)+i*samplePerPage \n",
    "                                      for i in pageIds if not i in trainPageIds])]\n",
    "\n",
    "# Calculating the number of spindles scored in the training pages\n",
    "def eventInPage(eventStart, pageId):\n",
    "    pageStart = pageId*pageDuration\n",
    "    pageEnd   = pageStart + pageDuration    \n",
    "    return (eventStart >= pageStart)*(eventStart < pageEnd)\n",
    "\n",
    "nbEvents = [sum(eventInPage(scoringStart, pageId)) for pageId in trainPageIds]"
   ]
  },
  {
   "cell_type": "markdown",
   "metadata": {},
   "source": [
    "Starting Matlab and adding necessary paths to Matlab environement variable\n",
    "--------"
   ]
  },
  {
   "cell_type": "code",
   "execution_count": 4,
   "metadata": {
    "collapsed": false
   },
   "outputs": [
    {
     "name": "stdout",
     "output_type": "stream",
     "text": [
      "Starting MATLAB on ZMQ socket ipc:///tmp/pymatbridge-9b33ca7b-6f93-4b49-9071-c6256ce5c4cc\n",
      "Send 'exit' command to kill the server\n",
      "......MATLAB started and connected!\n"
     ]
    }
   ],
   "source": [
    "from pymatbridge import Matlab\n",
    "mlab = Matlab(maxtime=60) #Matlab(matlab='C:/Program Files/MATLAB/R2015a/bin/matlab.exe')\n",
    "mlab.start()\n",
    "\n",
    "matlabCode = \\\n",
    "\"rootPath = '\" + spinkyPath + \"/'; \\n\" + \"\"\"\n",
    "addpath(rootPath) \n",
    "addpath([rootPath 'functions'])\n",
    "addpath([rootPath 'functions/tqwt_matlab_toolbox/tqwt_matlab_toolbox'])\n",
    "\"\"\"\n",
    "result = mlab.run_code(matlabCode)"
   ]
  },
  {
   "cell_type": "markdown",
   "metadata": {},
   "source": [
    "Example of threshold estimation (for spindles detection)\n",
    "---------------"
   ]
  },
  {
   "cell_type": "code",
   "execution_count": null,
   "metadata": {
    "collapsed": false
   },
   "outputs": [],
   "source": [
    "threshold = thresholds_ranges(mlab, trainSig, samplePerPage, fs)[0]"
   ]
  },
  {
   "cell_type": "code",
   "execution_count": null,
   "metadata": {
    "collapsed": false
   },
   "outputs": [],
   "source": [
    "threshold = training_process(mlab, trainSig, fs, samplePerPage, mode, threshold, nbEvents)\n",
    "print(\"Threshold:\", threshold) "
   ]
  },
  {
   "cell_type": "markdown",
   "metadata": {},
   "source": [
    "Example of spindle detection\n",
    "---------------"
   ]
  },
  {
   "cell_type": "code",
   "execution_count": 6,
   "metadata": {
    "collapsed": false
   },
   "outputs": [
    {
     "name": "stdout",
     "output_type": "stream",
     "text": [
      "[[ 0.  0.  2.  3.  0.  0.  2.  2.  1.  3.  2.  1.  0.  2.  2.  0.  2.  3.\n",
      "   4.  3.  2.  4.  4.  2.  3.  3.  4.  4.  3.  2.  3.  4.  3.  2.  3.  5.\n",
      "   2.  4.  1.  2.]]\n"
     ]
    },
    {
     "name": "stderr",
     "output_type": "stream",
     "text": [
      "/home/oreilly/.local/lib/python3.4/site-packages/ipykernel/__main__.py:11: VisibleDeprecationWarning: using a non-integer number instead of an integer will result in an error in the future\n"
     ]
    },
    {
     "ename": "IndexError",
     "evalue": "only integers, slices (`:`), ellipsis (`...`), numpy.newaxis (`None`) and integer or boolean arrays are valid indices",
     "output_type": "error",
     "traceback": [
      "\u001b[0;31m---------------------------------------------------------------------------\u001b[0m",
      "\u001b[0;31mIndexError\u001b[0m                                Traceback (most recent call last)",
      "\u001b[0;32m<ipython-input-6-1b277b5a2550>\u001b[0m in \u001b[0;36m<module>\u001b[0;34m()\u001b[0m\n\u001b[1;32m      9\u001b[0m \u001b[0;34m\u001b[0m\u001b[0m\n\u001b[1;32m     10\u001b[0m \u001b[0mprint\u001b[0m\u001b[0;34m(\u001b[0m\u001b[0mresult\u001b[0m\u001b[0;34m)\u001b[0m\u001b[0;34m\u001b[0m\u001b[0m\n\u001b[0;32m---> 11\u001b[0;31m \u001b[0mprint\u001b[0m\u001b[0;34m(\u001b[0m\u001b[0mresult\u001b[0m\u001b[0;34m[\u001b[0m\u001b[0;34m\"content\"\u001b[0m\u001b[0;34m]\u001b[0m\u001b[0;34m[\u001b[0m\u001b[0;34m\"stdout\"\u001b[0m\u001b[0;34m]\u001b[0m\u001b[0;34m)\u001b[0m\u001b[0;34m\u001b[0m\u001b[0m\n\u001b[0m",
      "\u001b[0;31mIndexError\u001b[0m: only integers, slices (`:`), ellipsis (`...`), numpy.newaxis (`None`) and integer or boolean arrays are valid indices"
     ]
    }
   ],
   "source": [
    "# This call create a file named score_auto_spindles_XXXXXX.txt where XXXXXXX is the value of subjectName\n",
    "outputFileName = \"score_auto_spindles_\" + subjectName + \".txt\"\n",
    "test_process(mlab, testSig, fs, samplePerPage, subjectName, threshold, mode)"
   ]
  },
  {
   "cell_type": "markdown",
   "metadata": {},
   "source": [
    "Example of performance assessment\n",
    "---------------"
   ]
  },
  {
   "cell_type": "code",
   "execution_count": null,
   "metadata": {
    "collapsed": false
   },
   "outputs": [],
   "source": [
    "def makeIndexSignal(spindles, epoch_length, fs):    \n",
    "    index = np.zeros((int(epoch_length*fs), 1))\n",
    "    for s, e in spindles:\n",
    "        index[int(np.round(s*fs)):int(np.round(e*fs))] = 1\n",
    "    return index\n",
    "    \n",
    "    \n",
    "def compute2classComp(indGold, indTest):    \n",
    "    \n",
    "    TP = np.logical_and(indGold, indTest)\n",
    "    TN = np.logical_and(np.logical_not(indGold), np.logical_not(indTest)) \n",
    "    FP = np.logical_and(np.logical_not(indGold), indTest)\n",
    "    FN = np.logical_and(indGold, np.logical_not(indTest))\n",
    "\n",
    "    return TP, TN, FP, FN\n",
    "\n",
    "\n",
    "def prinResults(threshold, percentile, subject, scorer, TP, TN, FP, FN):\n",
    "    res = (subject, percentile, threshold, scorer,\n",
    "            sensitivity(TP, TN, FP, FN), \n",
    "            specificity(TP, TN, FP, FN),\n",
    "            PPV(TP, TN, FP, FN), \n",
    "            MCC(TP, TN, FP, FN),\n",
    "            cohenk(TP, TN, FP, FN), \n",
    "            F1(TP, TN, FP, FN))\n",
    "    print((\"Subject:%s, percentile:%s, threshold:%s, scorer:%s, \"\\\n",
    "           \"sensitivity=%f, specificity=%f, PPV=%f,  MCC=%f, CohenK=%f, F1=%f\" % res))     \n",
    "    return res\n",
    "\n",
    "spindles = [e for e in reader.events if e.name == scorer]\n",
    "\n",
    "detectedSpindles = readDetectorOutput(resFileName)\n",
    "\n",
    "TP = []\n",
    "TN = [] \n",
    "FP = []\n",
    "FN = []\n",
    "for noPage in np.unique(detectedSpindles[\"page\"]):\n",
    "    p = pages[noPage-1]\n",
    "    spindlePage = [(s.startTime - p.startTime, s.startTime + s.duration() - p.startTime) for s in spindles \n",
    "                                   if spindleInPage(s, p)]\n",
    "    spindlePage = []\n",
    "    for s in spindles:\n",
    "        if spindleInPage(s, p):\n",
    "            sig = reader.read([channel], s.startTime,  s.duration())[channel].signal\n",
    "            pic = s.startTime - p.startTime + float(np.argmin(sig))/fs\n",
    "            spindlePage.append((pic-0.1, pic+1.3))\n",
    "\n",
    "    detectSpindlePage = [(l[\"time\"]-0.1, l[\"time\"]+1.3) for index, l \n",
    "                             in detectedSpindles[detectedSpindles[\"page\"] == noPage].iterrows()]\n",
    "\n",
    "    indGold = makeIndexSignal(spindlePage, epoch_length, fs)\n",
    "    indTest = makeIndexSignal(detectSpindlePage, epoch_length, fs)\n",
    "\n",
    "    TPtmp, TNtmp, FPtmp, FNtmp = compute2classComp(indGold, indTest)\n",
    "    TP.extend(TPtmp)\n",
    "    TN.extend(TNtmp)\n",
    "    FP.extend(FPtmp)\n",
    "    FN.extend(FNtmp)\n",
    "\n",
    "prinResults(threshold, percentile, subject, scorer,\n",
    "            np.sum(TP, dtype=np.int64), \n",
    "            np.sum(TN, dtype=np.int64), \n",
    "            np.sum(FP, dtype=np.int64), \n",
    "            np.sum(FN, dtype=np.int64))"
   ]
  },
  {
   "cell_type": "markdown",
   "metadata": {},
   "source": [
    "Closing Matlab\n",
    "-----------------------"
   ]
  },
  {
   "cell_type": "code",
   "execution_count": null,
   "metadata": {
    "collapsed": false
   },
   "outputs": [],
   "source": [
    "mlab.quit()"
   ]
  }
 ],
 "metadata": {
  "kernelspec": {
   "display_name": "Python 3",
   "language": "python",
   "name": "python3"
  },
  "language_info": {
   "codemirror_mode": {
    "name": "ipython",
    "version": 3
   },
   "file_extension": ".py",
   "mimetype": "text/x-python",
   "name": "python",
   "nbconvert_exporter": "python",
   "pygments_lexer": "ipython3",
   "version": "3.4.3"
  }
 },
 "nbformat": 4,
 "nbformat_minor": 0
}
