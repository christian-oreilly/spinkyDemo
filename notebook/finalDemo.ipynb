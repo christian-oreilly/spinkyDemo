{
 "cells": [
  {
   "cell_type": "code",
   "execution_count": 2,
   "metadata": {
    "collapsed": false
   },
   "outputs": [
    {
     "name": "stdout",
     "output_type": "stream",
     "text": [
      "Collecting git+https://github.com/christian-oreilly/spinkyDemo.git\n",
      "  Cloning https://github.com/christian-oreilly/spinkyDemo.git to /tmp/pip-nzo8841_-build\n",
      "Installing collected packages: spinkyDemo\n",
      "  Found existing installation: spinkyDemo 0.1.0\n",
      "    Uninstalling spinkyDemo-0.1.0:\n",
      "      Successfully uninstalled spinkyDemo-0.1.0\n",
      "  Running setup.py install for spinkyDemo ... \u001b[?25l-\b \bdone\n",
      "\u001b[?25hSuccessfully installed spinkyDemo-0.1.0\n",
      "fatal: destination path 'SPINKY' already exists and is not an empty directory.\n"
     ]
    }
   ],
   "source": [
    "# Using pip3 to install for Python 3.x; remove the quiet flag (-q) if you want to see the output\n",
    "!pip3 -q install spyndle --user\n",
    "!pip3 -q install numpy --user\n",
    "!pip3 -q install git+https://github.com/christian-oreilly/spinkyDemo.git --user --upgrade\n",
    "    \n",
    "!git clone https://github.com/TarekLaj/SPINKY.git"
   ]
  },
  {
   "cell_type": "code",
   "execution_count": 9,
   "metadata": {
    "collapsed": false
   },
   "outputs": [],
   "source": [
    "# Imports and constants\n",
    "import numpy as np\n",
    "from spyndle.io import EDFReader\n",
    "import sys\n",
    "import os\n",
    "\n",
    "dbPath     = '/home/oreilly/MASS/'  # Path where MASS is stored\n",
    "spinkyPath = os.path.join(os.getcwd(), 'SPINKY')"
   ]
  },
  {
   "cell_type": "markdown",
   "metadata": {},
   "source": [
    "Starting Matlab and adding necessary paths to Matlab environement variable\n",
    "--------"
   ]
  },
  {
   "cell_type": "code",
   "execution_count": 11,
   "metadata": {
    "collapsed": false
   },
   "outputs": [
    {
     "name": "stderr",
     "output_type": "stream",
     "text": [
      "/home/oreilly/.local/lib/python3.4/site-packages/IPython/nbformat.py:13: ShimWarning: The `IPython.nbformat` package has been deprecated. You should import from nbformat instead.\n",
      "  \"You should import from nbformat instead.\", ShimWarning)\n"
     ]
    },
    {
     "name": "stdout",
     "output_type": "stream",
     "text": [
      "Starting MATLAB on ZMQ socket ipc:///tmp/pymatbridge-21b60715-9927-4c6a-836a-ff07b9da42df\n",
      "Send 'exit' command to kill the server\n",
      "............................................................MATLAB session timed out after 60 seconds\n"
     ]
    },
    {
     "ename": "ValueError",
     "evalue": "MATLAB failed to start",
     "output_type": "error",
     "traceback": [
      "\u001b[0;31m---------------------------------------------------------------------------\u001b[0m",
      "\u001b[0;31mValueError\u001b[0m                                Traceback (most recent call last)",
      "\u001b[0;32m<ipython-input-11-a2c26d60ffce>\u001b[0m in \u001b[0;36m<module>\u001b[0;34m()\u001b[0m\n\u001b[1;32m      1\u001b[0m \u001b[0;32mfrom\u001b[0m \u001b[0mpymatbridge\u001b[0m \u001b[0;32mimport\u001b[0m \u001b[0mMatlab\u001b[0m\u001b[0;34m\u001b[0m\u001b[0m\n\u001b[1;32m      2\u001b[0m \u001b[0mmlab\u001b[0m \u001b[0;34m=\u001b[0m \u001b[0mMatlab\u001b[0m\u001b[0;34m(\u001b[0m\u001b[0mmaxtime\u001b[0m\u001b[0;34m=\u001b[0m\u001b[0;36m60\u001b[0m\u001b[0;34m)\u001b[0m \u001b[0;31m#Matlab(matlab='C:/Program Files/MATLAB/R2015a/bin/matlab.exe')\u001b[0m\u001b[0;34m\u001b[0m\u001b[0m\n\u001b[0;32m----> 3\u001b[0;31m \u001b[0mmlab\u001b[0m\u001b[0;34m.\u001b[0m\u001b[0mstart\u001b[0m\u001b[0;34m(\u001b[0m\u001b[0;34m)\u001b[0m\u001b[0;34m\u001b[0m\u001b[0m\n\u001b[0m\u001b[1;32m      4\u001b[0m \u001b[0;34m\u001b[0m\u001b[0m\n\u001b[1;32m      5\u001b[0m matlabCode = \"rootPath = '\" + spinkyPath + \"/'; \\n\" + \"\"\"\n",
      "\u001b[0;32m/home/oreilly/.local/lib/python3.4/site-packages/pymatbridge/pymatbridge.py\u001b[0m in \u001b[0;36mstart\u001b[0;34m(self)\u001b[0m\n\u001b[1;32m    223\u001b[0m             \u001b[0;32mreturn\u001b[0m \u001b[0mself\u001b[0m\u001b[0;34m\u001b[0m\u001b[0m\n\u001b[1;32m    224\u001b[0m         \u001b[0;32melse\u001b[0m\u001b[0;34m:\u001b[0m\u001b[0;34m\u001b[0m\u001b[0m\n\u001b[0;32m--> 225\u001b[0;31m             \u001b[0;32mraise\u001b[0m \u001b[0mValueError\u001b[0m\u001b[0;34m(\u001b[0m\u001b[0;34m\"%s failed to start\"\u001b[0m \u001b[0;34m%\u001b[0m \u001b[0mself\u001b[0m\u001b[0;34m.\u001b[0m\u001b[0m_program_name\u001b[0m\u001b[0;34m(\u001b[0m\u001b[0;34m)\u001b[0m\u001b[0;34m)\u001b[0m\u001b[0;34m\u001b[0m\u001b[0m\n\u001b[0m\u001b[1;32m    226\u001b[0m \u001b[0;34m\u001b[0m\u001b[0m\n\u001b[1;32m    227\u001b[0m     \u001b[0;32mdef\u001b[0m \u001b[0m_response\u001b[0m\u001b[0;34m(\u001b[0m\u001b[0mself\u001b[0m\u001b[0;34m,\u001b[0m \u001b[0;34m**\u001b[0m\u001b[0mkwargs\u001b[0m\u001b[0;34m)\u001b[0m\u001b[0;34m:\u001b[0m\u001b[0;34m\u001b[0m\u001b[0m\n",
      "\u001b[0;31mValueError\u001b[0m: MATLAB failed to start"
     ]
    }
   ],
   "source": [
    "from pymatbridge import Matlab\n",
    "mlab = Matlab(maxtime=60) #Matlab(matlab='C:/Program Files/MATLAB/R2015a/bin/matlab.exe')\n",
    "mlab.start()\n",
    "\n",
    "matlabCode = \\\n",
    "\"rootPath = '\" + spinkyPath + \"/'; \\n\" + \"\"\"\n",
    "addpath(rootPath) \n",
    "addpath([rootPath 'functions'])\n",
    "addpath([rootPath 'functions/tqwt_matlab_toolbox/tqwt_matlab_toolbox'])\n",
    "\"\"\"\n",
    "result = mlab.run_code(matlabCode)"
   ]
  },
  {
   "cell_type": "markdown",
   "metadata": {},
   "source": [
    "Example of threshold estimation (for K-complexes)\n",
    "---------------"
   ]
  },
  {
   "cell_type": "code",
   "execution_count": 10,
   "metadata": {
    "collapsed": false
   },
   "outputs": [
    {
     "ename": "NameError",
     "evalue": "name 'mlab' is not defined",
     "output_type": "error",
     "traceback": [
      "\u001b[0;31m---------------------------------------------------------------------------\u001b[0m",
      "\u001b[0;31mNameError\u001b[0m                                 Traceback (most recent call last)",
      "\u001b[0;32m<ipython-input-10-298f08285ce5>\u001b[0m in \u001b[0;36m<module>\u001b[0;34m()\u001b[0m\n\u001b[1;32m     17\u001b[0m                                                       eventName=scorer)\n\u001b[1;32m     18\u001b[0m \u001b[0;34m\u001b[0m\u001b[0m\n\u001b[0;32m---> 19\u001b[0;31m \u001b[0mthresh\u001b[0m \u001b[0;34m=\u001b[0m \u001b[0mkp_thresholds_ranges\u001b[0m\u001b[0;34m(\u001b[0m\u001b[0mmlab\u001b[0m\u001b[0;34m,\u001b[0m \u001b[0mtrainSig\u001b[0m\u001b[0;34m,\u001b[0m \u001b[0mfs\u001b[0m\u001b[0;34m,\u001b[0m \u001b[0mepoch_length\u001b[0m\u001b[0;34m)\u001b[0m\u001b[0;34m[\u001b[0m\u001b[0;36m0\u001b[0m\u001b[0;34m]\u001b[0m\u001b[0;34m\u001b[0m\u001b[0m\n\u001b[0m\u001b[1;32m     20\u001b[0m \u001b[0;34m\u001b[0m\u001b[0m\n\u001b[1;32m     21\u001b[0m savemat('temp_train.mat', {'trainSig':trainSig, 'fs':fs, 'epoch_length':epoch_length, \n",
      "\u001b[0;31mNameError\u001b[0m: name 'mlab' is not defined"
     ]
    }
   ],
   "source": [
    "from random import randint\n",
    "from spinkyDemo import training_process, getTrainSignal, kp_thresholds_ranges\n",
    "from scipy.io import savemat \n",
    "from spyndle.io import EDFReader\n",
    "\n",
    "mode        = 'kcomplex' #'spindles'\n",
    "strSubject  = \"01\"\n",
    "scorer      = 'kComplexE1'\n",
    "nbTrainPage = 30\n",
    "\n",
    "reader = EDFReader(dbPath + '01-02-00' + strSubject + ' PSG.edf', \n",
    "                   annotationFileName=[dbPath + '01-02-00' + strSubject + ' Base.edf',\n",
    "                                       dbPath + '01-02-00' + strSubject + ' KComplexesE1.edf'])\n",
    "\n",
    "trainSig, nbEvents, fs, epoch_length = getTrainSignal(reader, \n",
    "                                                      nbTrainPage=nbTrainPage, \n",
    "                                                      eventName=scorer)\n",
    "\n",
    "thresh = kp_thresholds_ranges(mlab, trainSig, fs, epoch_length)[0]\n",
    "\n",
    "savemat('temp_train.mat', {'trainSig':trainSig, 'fs':fs, 'epoch_length':epoch_length, \n",
    "                           'threshold':thresh, 'mode':mode, 'nbEvents':nbEvents})            \n",
    "\n",
    "threshold = training_process(mlab, trainSig, fs, epoch_length, detection_mode, thresh, nbEvents)\n",
    "\n",
    "print(strSubject, scorer, threshold)            "
   ]
  },
  {
   "cell_type": "markdown",
   "metadata": {},
   "source": [
    "Example of K-Complex detection\n",
    "---------------"
   ]
  },
  {
   "cell_type": "code",
   "execution_count": 7,
   "metadata": {
    "collapsed": false
   },
   "outputs": [
    {
     "ename": "FileNotFoundError",
     "evalue": "[Errno 2] No such file or directory: 'E:/MASS/01-02-0001 PSG.edf'",
     "output_type": "error",
     "traceback": [
      "\u001b[0;31m---------------------------------------------------------------------------\u001b[0m",
      "\u001b[0;31mFileNotFoundError\u001b[0m                         Traceback (most recent call last)",
      "\u001b[0;32m<ipython-input-7-e8f1d52681f0>\u001b[0m in \u001b[0;36m<module>\u001b[0;34m()\u001b[0m\n\u001b[1;32m      4\u001b[0m \u001b[0;34m\u001b[0m\u001b[0m\n\u001b[1;32m      5\u001b[0m reader = EDFReader(dbPath + '01-02-00' + strSubject + ' PSG.edf', \n\u001b[0;32m----> 6\u001b[0;31m                    annotationFileName=[dbPath + '01-02-00' + strSubject + ' Base.edf'])\n\u001b[0m\u001b[1;32m      7\u001b[0m \u001b[0;34m\u001b[0m\u001b[0m\n\u001b[1;32m      8\u001b[0m \u001b[0mtestSig\u001b[0m\u001b[0;34m,\u001b[0m \u001b[0mfs\u001b[0m\u001b[0;34m,\u001b[0m \u001b[0mepoch_length\u001b[0m \u001b[0;34m=\u001b[0m \u001b[0mgetTestSignal\u001b[0m\u001b[0;34m(\u001b[0m\u001b[0mreader\u001b[0m\u001b[0;34m)\u001b[0m\u001b[0;34m\u001b[0m\u001b[0m\n",
      "\u001b[0;32m/home/oreilly/.local/lib/python3.4/site-packages/spyndle/io/edf.py\u001b[0m in \u001b[0;36m__init__\u001b[0;34m(self, fileName, isSplitted, annotationFileName, readEventsOnInit, eventChannel)\u001b[0m\n\u001b[1;32m   2011\u001b[0m \u001b[0;34m\u001b[0m\u001b[0m\n\u001b[1;32m   2012\u001b[0m \u001b[0;34m\u001b[0m\u001b[0m\n\u001b[0;32m-> 2013\u001b[0;31m         \u001b[0mself\u001b[0m\u001b[0;34m.\u001b[0m\u001b[0mdataReader\u001b[0m        \u001b[0;34m=\u001b[0m \u001b[0mEDFBaseReader\u001b[0m\u001b[0;34m(\u001b[0m\u001b[0mfileName\u001b[0m\u001b[0;34m,\u001b[0m \u001b[0mreadEventsOnInit\u001b[0m\u001b[0;34m=\u001b[0m\u001b[0mreadEventsOnInit\u001b[0m\u001b[0;34m,\u001b[0m \u001b[0meventChannel\u001b[0m\u001b[0;34m=\u001b[0m\u001b[0meventChannel\u001b[0m\u001b[0;34m)\u001b[0m\u001b[0;34m\u001b[0m\u001b[0m\n\u001b[0m\u001b[1;32m   2014\u001b[0m         \u001b[0msuper\u001b[0m\u001b[0;34m(\u001b[0m\u001b[0mEDFReader\u001b[0m\u001b[0;34m,\u001b[0m \u001b[0mself\u001b[0m\u001b[0;34m)\u001b[0m\u001b[0;34m.\u001b[0m\u001b[0m__init__\u001b[0m\u001b[0;34m(\u001b[0m\u001b[0mself\u001b[0m\u001b[0;34m.\u001b[0m\u001b[0mgetRecordDuration\u001b[0m\u001b[0;34m(\u001b[0m\u001b[0;34m)\u001b[0m\u001b[0;34m)\u001b[0m\u001b[0;34m\u001b[0m\u001b[0m\n\u001b[1;32m   2015\u001b[0m \u001b[0;34m\u001b[0m\u001b[0m\n",
      "\u001b[0;32m/home/oreilly/.local/lib/python3.4/site-packages/spyndle/io/edf.py\u001b[0m in \u001b[0;36m__init__\u001b[0;34m(self, fileName, isSplitted, annotationFileName, readEventsOnInit, eventChannel)\u001b[0m\n\u001b[1;32m    792\u001b[0m         \u001b[0mself\u001b[0m\u001b[0;34m.\u001b[0m\u001b[0meventChannel\u001b[0m \u001b[0;34m=\u001b[0m \u001b[0meventChannel\u001b[0m\u001b[0;34m\u001b[0m\u001b[0m\n\u001b[1;32m    793\u001b[0m \u001b[0;34m\u001b[0m\u001b[0m\n\u001b[0;32m--> 794\u001b[0;31m         \u001b[0;32mwith\u001b[0m \u001b[0mio\u001b[0m\u001b[0;34m.\u001b[0m\u001b[0mopen\u001b[0m\u001b[0;34m(\u001b[0m\u001b[0mfileName\u001b[0m\u001b[0;34m,\u001b[0m \u001b[0;34m'rb'\u001b[0m\u001b[0;34m)\u001b[0m \u001b[0;32mas\u001b[0m \u001b[0mfileObj\u001b[0m\u001b[0;34m:\u001b[0m\u001b[0;34m\u001b[0m\u001b[0m\n\u001b[0m\u001b[1;32m    795\u001b[0m             \u001b[0mself\u001b[0m\u001b[0;34m.\u001b[0m\u001b[0mheader\u001b[0m \u001b[0;34m=\u001b[0m \u001b[0mEDFHeader\u001b[0m\u001b[0;34m(\u001b[0m\u001b[0mfileObj\u001b[0m\u001b[0;34m,\u001b[0m \u001b[0mself\u001b[0m\u001b[0;34m.\u001b[0m\u001b[0mfileName\u001b[0m\u001b[0;34m)\u001b[0m\u001b[0;34m\u001b[0m\u001b[0m\n\u001b[1;32m    796\u001b[0m \u001b[0;34m\u001b[0m\u001b[0m\n",
      "\u001b[0;31mFileNotFoundError\u001b[0m: [Errno 2] No such file or directory: 'E:/MASS/01-02-0001 PSG.edf'"
     ]
    }
   ],
   "source": [
    "import pandas as pd\n",
    "from spinkyDemo import getTestSignal\n",
    "\n",
    "\n",
    "reader = EDFReader(dbPath + '01-02-00' + strSubject + ' PSG.edf', \n",
    "                   annotationFileName=[dbPath + '01-02-00' + strSubject + ' Base.edf'])\n",
    "\n",
    "testSig, fs, epoch_length = getTestSignal(reader)\n",
    "    \n",
    "subject = '01-02-00' + strSubject + \"_\" + scorer + \"_\" + str(threshold)\n",
    "\n",
    "# Due to an apparent bug in python-matlab-bridge, the program hang on \n",
    "# call to mlab.set_variable with numpy array that are too large as in\n",
    "# testSig. Thus, we need to get around this limitation by saving the arguments\n",
    "# in a mat file and calling an wrapper matlab function which will read this mat\n",
    "# file and call test_process\n",
    "#nbr_sp, pos_sp = test_process(mlab, testSig, fs, epoch_length, subject, threshold, mode)\n",
    "\n",
    "savemat('temp.mat', {'testSig':testSig, 'fs':fs, 'epoch_length':epoch_length, \n",
    "                     'subject':subject, 'threshold':threshold, 'mode':mode})\n",
    "\n",
    "result = mlab.run_code(\"test_process_wrapper('temp.mat');\")\n",
    "\n",
    "print(result[\"content\"][\"stdout\"])"
   ]
  },
  {
   "cell_type": "markdown",
   "metadata": {},
   "source": [
    "Example of performance assessment\n",
    "---------------"
   ]
  },
  {
   "cell_type": "code",
   "execution_count": 8,
   "metadata": {
    "collapsed": false
   },
   "outputs": [
    {
     "ename": "FileNotFoundError",
     "evalue": "[Errno 2] No such file or directory: 'E:/MASS/01-02-0001 PSG.edf'",
     "output_type": "error",
     "traceback": [
      "\u001b[0;31m---------------------------------------------------------------------------\u001b[0m",
      "\u001b[0;31mFileNotFoundError\u001b[0m                         Traceback (most recent call last)",
      "\u001b[0;32m<ipython-input-8-2ab2c0ee0492>\u001b[0m in \u001b[0;36m<module>\u001b[0;34m()\u001b[0m\n\u001b[1;32m     44\u001b[0m reader = EDFReader(dbPath + '01-02-00' + strSubject + ' PSG.edf', \n\u001b[1;32m     45\u001b[0m                    annotationFileName=[dbPath + '01-02-00' + strSubject + ' Base.edf',\n\u001b[0;32m---> 46\u001b[0;31m                                        dbPath + '01-02-00' + strSubject + ' KComplexesE1.edf'])\n\u001b[0m\u001b[1;32m     47\u001b[0m \u001b[0;34m\u001b[0m\u001b[0m\n\u001b[1;32m     48\u001b[0m \u001b[0mpages\u001b[0m  \u001b[0;34m=\u001b[0m \u001b[0;34m[\u001b[0m\u001b[0me\u001b[0m \u001b[0;32mfor\u001b[0m \u001b[0me\u001b[0m \u001b[0;32min\u001b[0m \u001b[0mreader\u001b[0m\u001b[0;34m.\u001b[0m\u001b[0mevents\u001b[0m \u001b[0;32mif\u001b[0m \u001b[0me\u001b[0m\u001b[0;34m.\u001b[0m\u001b[0mname\u001b[0m \u001b[0;34m==\u001b[0m \u001b[0;34m'Sleep stage 2'\u001b[0m\u001b[0;34m]\u001b[0m\u001b[0;34m\u001b[0m\u001b[0m\n",
      "\u001b[0;32m/home/oreilly/.local/lib/python3.4/site-packages/spyndle/io/edf.py\u001b[0m in \u001b[0;36m__init__\u001b[0;34m(self, fileName, isSplitted, annotationFileName, readEventsOnInit, eventChannel)\u001b[0m\n\u001b[1;32m   2011\u001b[0m \u001b[0;34m\u001b[0m\u001b[0m\n\u001b[1;32m   2012\u001b[0m \u001b[0;34m\u001b[0m\u001b[0m\n\u001b[0;32m-> 2013\u001b[0;31m         \u001b[0mself\u001b[0m\u001b[0;34m.\u001b[0m\u001b[0mdataReader\u001b[0m        \u001b[0;34m=\u001b[0m \u001b[0mEDFBaseReader\u001b[0m\u001b[0;34m(\u001b[0m\u001b[0mfileName\u001b[0m\u001b[0;34m,\u001b[0m \u001b[0mreadEventsOnInit\u001b[0m\u001b[0;34m=\u001b[0m\u001b[0mreadEventsOnInit\u001b[0m\u001b[0;34m,\u001b[0m \u001b[0meventChannel\u001b[0m\u001b[0;34m=\u001b[0m\u001b[0meventChannel\u001b[0m\u001b[0;34m)\u001b[0m\u001b[0;34m\u001b[0m\u001b[0m\n\u001b[0m\u001b[1;32m   2014\u001b[0m         \u001b[0msuper\u001b[0m\u001b[0;34m(\u001b[0m\u001b[0mEDFReader\u001b[0m\u001b[0;34m,\u001b[0m \u001b[0mself\u001b[0m\u001b[0;34m)\u001b[0m\u001b[0;34m.\u001b[0m\u001b[0m__init__\u001b[0m\u001b[0;34m(\u001b[0m\u001b[0mself\u001b[0m\u001b[0;34m.\u001b[0m\u001b[0mgetRecordDuration\u001b[0m\u001b[0;34m(\u001b[0m\u001b[0;34m)\u001b[0m\u001b[0;34m)\u001b[0m\u001b[0;34m\u001b[0m\u001b[0m\n\u001b[1;32m   2015\u001b[0m \u001b[0;34m\u001b[0m\u001b[0m\n",
      "\u001b[0;32m/home/oreilly/.local/lib/python3.4/site-packages/spyndle/io/edf.py\u001b[0m in \u001b[0;36m__init__\u001b[0;34m(self, fileName, isSplitted, annotationFileName, readEventsOnInit, eventChannel)\u001b[0m\n\u001b[1;32m    792\u001b[0m         \u001b[0mself\u001b[0m\u001b[0;34m.\u001b[0m\u001b[0meventChannel\u001b[0m \u001b[0;34m=\u001b[0m \u001b[0meventChannel\u001b[0m\u001b[0;34m\u001b[0m\u001b[0m\n\u001b[1;32m    793\u001b[0m \u001b[0;34m\u001b[0m\u001b[0m\n\u001b[0;32m--> 794\u001b[0;31m         \u001b[0;32mwith\u001b[0m \u001b[0mio\u001b[0m\u001b[0;34m.\u001b[0m\u001b[0mopen\u001b[0m\u001b[0;34m(\u001b[0m\u001b[0mfileName\u001b[0m\u001b[0;34m,\u001b[0m \u001b[0;34m'rb'\u001b[0m\u001b[0;34m)\u001b[0m \u001b[0;32mas\u001b[0m \u001b[0mfileObj\u001b[0m\u001b[0;34m:\u001b[0m\u001b[0;34m\u001b[0m\u001b[0m\n\u001b[0m\u001b[1;32m    795\u001b[0m             \u001b[0mself\u001b[0m\u001b[0;34m.\u001b[0m\u001b[0mheader\u001b[0m \u001b[0;34m=\u001b[0m \u001b[0mEDFHeader\u001b[0m\u001b[0;34m(\u001b[0m\u001b[0mfileObj\u001b[0m\u001b[0;34m,\u001b[0m \u001b[0mself\u001b[0m\u001b[0;34m.\u001b[0m\u001b[0mfileName\u001b[0m\u001b[0;34m)\u001b[0m\u001b[0;34m\u001b[0m\u001b[0m\n\u001b[1;32m    796\u001b[0m \u001b[0;34m\u001b[0m\u001b[0m\n",
      "\u001b[0;31mFileNotFoundError\u001b[0m: [Errno 2] No such file or directory: 'E:/MASS/01-02-0001 PSG.edf'"
     ]
    }
   ],
   "source": [
    "from glob import glob\n",
    "from spyndle.detector import DetectorEvaluator\n",
    "\n",
    "import numpy as np\n",
    "\n",
    "from spinkyDemo import getTestSignal\n",
    "\n",
    "def spindleInPage(spindle, page):\n",
    "    return spindle.startTime >= page.startTime and spindle.startTime <= page.startTime + page.duration()\n",
    "\n",
    "def makeIndexSignal(spindles, epoch_length, fs):    \n",
    "    index = np.zeros((int(epoch_length*fs), 1))\n",
    "    for s, e in spindles:\n",
    "        index[int(np.round(s*fs)):int(np.round(e*fs))] = 1\n",
    "    return index\n",
    "    \n",
    "    \n",
    "def compute2classComp(indGold, indTest):    \n",
    "    \n",
    "    TP = np.logical_and(indGold, indTest)\n",
    "    TN = np.logical_and(np.logical_not(indGold), np.logical_not(indTest)) \n",
    "    FP = np.logical_and(np.logical_not(indGold), indTest)\n",
    "    FN = np.logical_and(indGold, np.logical_not(indTest))\n",
    "\n",
    "    return TP, TN, FP, FN\n",
    "\n",
    "\n",
    "def prinResults(threshold, percentile, subject, scorer, TP, TN, FP, FN):\n",
    "    res = (subject, percentile, threshold, scorer,\n",
    "            sensitivity(TP, TN, FP, FN), \n",
    "            specificity(TP, TN, FP, FN),\n",
    "            PPV(TP, TN, FP, FN), \n",
    "            MCC(TP, TN, FP, FN),\n",
    "            cohenk(TP, TN, FP, FN), \n",
    "            F1(TP, TN, FP, FN))\n",
    "    print((\"Subject:%s, percentile:%s, threshold:%s, scorer:%s, \"\\\n",
    "           \"sensitivity=%f, specificity=%f, PPV=%f,  MCC=%f, CohenK=%f, F1=%f\" % res))     \n",
    "    return res\n",
    "\n",
    "    \n",
    "channel      = 'EEG C3-CLE'\n",
    "pathResFiles = 'C:/Users/oreichri/Dropbox/Publications (current)/PaperDetectorTarekKarim/CK/'\n",
    "evaluator = DetectorEvaluator()\n",
    "\n",
    "reader = EDFReader(dbPath + '01-02-00' + strSubject + ' PSG.edf', \n",
    "                   annotationFileName=[dbPath + '01-02-00' + strSubject + ' Base.edf',\n",
    "                                       dbPath + '01-02-00' + strSubject + ' KComplexesE1.edf'])\n",
    "\n",
    "pages  = [e for e in reader.events if e.name == 'Sleep stage 2']\n",
    "fs = reader.getChannelFreq(channel)\n",
    "testSig   = []\n",
    "epoch_length = np.min([s.duration() for s in pages])\n",
    "nbSamples = int(epoch_length*fs)\n",
    "\n",
    "files = glob(pathResFiles + '*_01-02-00' + strSubject + \"_\" + scorer + \"_*.txt\")\n",
    "if len(files):\n",
    "    spindles = [e for e in reader.events if e.name == scorer]\n",
    "\n",
    "for resFileName in files:\n",
    "    detectedSpindles = readDetectorOutput(resFileName)\n",
    "\n",
    "    tokens = resFileName.split(\"_\")\n",
    "    threshold = float(tokens[-1].split(\".\")[0])\n",
    "    percentile = int(tokens[-2])\n",
    "    subject = int(tokens[-4].split(\"-\")[-1])\n",
    "    TP = []\n",
    "    TN = [] \n",
    "    FP = []\n",
    "    FN = []\n",
    "    for noPage in np.unique(detectedSpindles[\"page\"]):\n",
    "        p = pages[noPage-1]\n",
    "        spindlePage = [(s.startTime - p.startTime, s.startTime + s.duration() - p.startTime) for s in spindles \n",
    "                                       if spindleInPage(s, p)]\n",
    "        spindlePage = []\n",
    "        for s in spindles:\n",
    "            if spindleInPage(s, p):\n",
    "                sig = reader.read([channel], s.startTime,  s.duration())[channel].signal\n",
    "                pic = s.startTime - p.startTime + float(np.argmin(sig))/fs\n",
    "                spindlePage.append((pic-0.1, pic+1.3))\n",
    "\n",
    "        detectSpindlePage = [(l[\"time\"]-0.1, l[\"time\"]+1.3) for index, l \n",
    "                                 in detectedSpindles[detectedSpindles[\"page\"] == noPage].iterrows()]\n",
    "\n",
    "        indGold = makeIndexSignal(spindlePage, epoch_length, fs)\n",
    "        indTest = makeIndexSignal(detectSpindlePage, epoch_length, fs)\n",
    "\n",
    "        TPtmp, TNtmp, FPtmp, FNtmp = compute2classComp(indGold, indTest)\n",
    "        TP.extend(TPtmp)\n",
    "        TN.extend(TNtmp)\n",
    "        FP.extend(FPtmp)\n",
    "        FN.extend(FNtmp)\n",
    "\n",
    "    prinResults(threshold, percentile, subject, scorer,\n",
    "                np.sum(TP, dtype=np.int64), \n",
    "                np.sum(TN, dtype=np.int64), \n",
    "                np.sum(FP, dtype=np.int64), \n",
    "                np.sum(FN, dtype=np.int64))"
   ]
  },
  {
   "cell_type": "markdown",
   "metadata": {},
   "source": [
    "Quitting Matlab\n",
    "-----------------------"
   ]
  },
  {
   "cell_type": "code",
   "execution_count": null,
   "metadata": {
    "collapsed": false
   },
   "outputs": [],
   "source": [
    "mlab.quit()"
   ]
  }
 ],
 "metadata": {
  "kernelspec": {
   "display_name": "Python 3",
   "language": "python",
   "name": "python3"
  },
  "language_info": {
   "codemirror_mode": {
    "name": "ipython",
    "version": 3
   },
   "file_extension": ".py",
   "mimetype": "text/x-python",
   "name": "python",
   "nbconvert_exporter": "python",
   "pygments_lexer": "ipython3",
   "version": "3.4.3"
  }
 },
 "nbformat": 4,
 "nbformat_minor": 0
}
