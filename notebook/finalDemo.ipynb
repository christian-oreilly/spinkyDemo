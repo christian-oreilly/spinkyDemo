{
 "cells": [
  {
   "cell_type": "markdown",
   "metadata": {},
   "source": [
    "Installing required resources\n",
    "----------------"
   ]
  },
  {
   "cell_type": "code",
   "execution_count": 44,
   "metadata": {
    "collapsed": false
   },
   "outputs": [
    {
     "name": "stdout",
     "output_type": "stream",
     "text": [
      "--2016-12-04 13:58:12--  http://www.tcts.fpms.ac.be/~devuyst/Databases/DatabaseSpindles/excerpt5.txt\n",
      "Resolving www.tcts.fpms.ac.be (www.tcts.fpms.ac.be)... 193.190.210.20\n",
      "Connecting to www.tcts.fpms.ac.be (www.tcts.fpms.ac.be)|193.190.210.20|:80... connected.\n",
      "HTTP request sent, awaiting response... 200 OK\n",
      "Length: 4320009 (4.1M) [text/plain]\n",
      "Saving to: 'excerpt5.txt.2'\n",
      "\n",
      "100%[======================================>] 4,320,009   20.7MB/s   in 0.2s   \n",
      "\n",
      "2016-12-04 13:58:12 (20.7 MB/s) - 'excerpt5.txt.2' saved [4320009/4320009]\n",
      "\n",
      "--2016-12-04 13:58:12--  http://www.tcts.fpms.ac.be/~devuyst/Databases/DatabaseSpindles/Visual_scoring1_excerpt5.txt\n",
      "Resolving www.tcts.fpms.ac.be (www.tcts.fpms.ac.be)... 193.190.210.20\n",
      "Connecting to www.tcts.fpms.ac.be (www.tcts.fpms.ac.be)|193.190.210.20|:80... connected.\n",
      "HTTP request sent, awaiting response... 200 OK\n",
      "Length: 1311 (1.3K) [text/plain]\n",
      "Saving to: 'Visual_scoring1_excerpt5.txt.2'\n",
      "\n",
      "100%[======================================>] 1,311       --.-K/s   in 0s      \n",
      "\n",
      "2016-12-04 13:58:12 (219 MB/s) - 'Visual_scoring1_excerpt5.txt.2' saved [1311/1311]\n",
      "\n",
      "--2016-12-04 13:58:12--  http://www.tcts.fpms.ac.be/~devuyst/Databases/DatabaseSpindles/Hypnogram_excerpt5.txt\n",
      "Resolving www.tcts.fpms.ac.be (www.tcts.fpms.ac.be)... 193.190.210.20\n",
      "Connecting to www.tcts.fpms.ac.be (www.tcts.fpms.ac.be)|193.190.210.20|:80... connected.\n",
      "HTTP request sent, awaiting response... 200 OK\n",
      "Length: 1093 (1.1K) [text/plain]\n",
      "Saving to: 'Hypnogram_excerpt5.txt.2'\n",
      "\n",
      "100%[======================================>] 1,093       --.-K/s   in 0s      \n",
      "\n",
      "2016-12-04 13:58:12 (279 MB/s) - 'Hypnogram_excerpt5.txt.2' saved [1093/1093]\n",
      "\n",
      "--2016-12-04 13:58:13--  http://www.tcts.fpms.ac.be/~devuyst/Databases/DatabaseKcomplexes/excerpt2.txt\n",
      "Resolving www.tcts.fpms.ac.be (www.tcts.fpms.ac.be)... 193.190.210.20\n",
      "Connecting to www.tcts.fpms.ac.be (www.tcts.fpms.ac.be)|193.190.210.20|:80... connected.\n",
      "HTTP request sent, awaiting response... 200 OK\n",
      "Length: 4320009 (4.1M) [text/plain]\n",
      "Saving to: 'excerpt2.txt.4'\n",
      "\n",
      "100%[======================================>] 4,320,009   20.6MB/s   in 0.2s   \n",
      "\n",
      "2016-12-04 13:58:13 (20.6 MB/s) - 'excerpt2.txt.4' saved [4320009/4320009]\n",
      "\n",
      "--2016-12-04 13:58:13--  http://www.tcts.fpms.ac.be/~devuyst/Databases/DatabaseKcomplexes/Visual_scoring1_excerpt2.txt\n",
      "Resolving www.tcts.fpms.ac.be (www.tcts.fpms.ac.be)... 193.190.210.20\n",
      "Connecting to www.tcts.fpms.ac.be (www.tcts.fpms.ac.be)|193.190.210.20|:80... connected.\n",
      "HTTP request sent, awaiting response... 200 OK\n",
      "Length: 1060 (1.0K) [text/plain]\n",
      "Saving to: 'Visual_scoring1_excerpt2.txt.4'\n",
      "\n",
      "100%[======================================>] 1,060       --.-K/s   in 0s      \n",
      "\n",
      "2016-12-04 13:58:13 (261 MB/s) - 'Visual_scoring1_excerpt2.txt.4' saved [1060/1060]\n",
      "\n",
      "--2016-12-04 13:58:13--  http://www.tcts.fpms.ac.be/~devuyst/Databases/DatabaseKcomplexes/Hypnogram_excerpt2.txt\n",
      "Resolving www.tcts.fpms.ac.be (www.tcts.fpms.ac.be)... 193.190.210.20\n",
      "Connecting to www.tcts.fpms.ac.be (www.tcts.fpms.ac.be)|193.190.210.20|:80... connected.\n",
      "HTTP request sent, awaiting response... 200 OK\n",
      "Length: 1093 (1.1K) [text/plain]\n",
      "Saving to: 'Hypnogram_excerpt2.txt.4'\n",
      "\n",
      "100%[======================================>] 1,093       --.-K/s   in 0s      \n",
      "\n",
      "2016-12-04 13:58:13 (70.6 MB/s) - 'Hypnogram_excerpt2.txt.4' saved [1093/1093]\n",
      "\n"
     ]
    }
   ],
   "source": [
    "# Using pip3 to install for Python 3.x; remove the quiet flag (-q) if you want to see the output\n",
    "\n",
    "# Standard downloads\n",
    "!pip3 -q install numpy scipy pandas matplotlib pymatbridge seaborn gitpython --user\n",
    "\n",
    "# The spinkyDemo package, which provide a set of utilitary functions useful to avoid clutering \n",
    "# this example with a lot of code.\n",
    "!pip3 -q install git+https://github.com/christian-oreilly/spinkyDemo.git --user --upgrade\n",
    "\n",
    "# Cloning the SPINKY Matlab Git repository\n",
    "import os, scipy\n",
    "from git import Repo\n",
    "git_url = \"https://github.com/TarekLaj/SPINKY.git\"\n",
    "spinkyPath = os.path.join(os.getcwd(), \"SPINKY\")\n",
    "if not os.path.isdir(spinkyPath):\n",
    "    Repo.clone_from(git_url, spinkyPath)\n",
    "else:\n",
    "    Repo(spinkyPath).remotes.origin.pull()        \n",
    "        \n",
    "        \n",
    "# Downloading an example of EEG + scoring from the DREAMS database        \n",
    "# for the spindle example...\n",
    "if not os.path.isfile(\"excerpt5.txt\"):\n",
    "    !wget \"http://www.tcts.fpms.ac.be/~devuyst/Databases/DatabaseSpindles/excerpt5.txt\"\n",
    "    !wget \"http://www.tcts.fpms.ac.be/~devuyst/Databases/DatabaseSpindles/Visual_scoring1_excerpt5.txt\"   \n",
    "    !wget \"http://www.tcts.fpms.ac.be/~devuyst/Databases/DatabaseSpindles/Hypnogram_excerpt5.txt\"\n",
    "\n",
    "# for the K-complex example\n",
    "if not os.path.isfile(\"excerpt2.txt\"):\n",
    "    !wget \"http://www.tcts.fpms.ac.be/~devuyst/Databases/DatabaseKcomplexes/excerpt2.txt\"\n",
    "    !wget \"http://www.tcts.fpms.ac.be/~devuyst/Databases/DatabaseKcomplexes/Visual_scoring1_excerpt2.txt\"\n",
    "    !wget \"http://www.tcts.fpms.ac.be/~devuyst/Databases/DatabaseKcomplexes/Hypnogram_excerpt2.txt\""
   ]
  },
  {
   "cell_type": "markdown",
   "metadata": {},
   "source": [
    "Importing required functions and packages\n",
    "--------------"
   ]
  },
  {
   "cell_type": "code",
   "execution_count": 2,
   "metadata": {
    "collapsed": false
   },
   "outputs": [
    {
     "name": "stderr",
     "output_type": "stream",
     "text": [
      "/home/oreilly/.local/lib/python3.4/site-packages/IPython/nbformat.py:13: ShimWarning: The `IPython.nbformat` package has been deprecated. You should import from nbformat instead.\n",
      "  \"You should import from nbformat instead.\", ShimWarning)\n"
     ]
    }
   ],
   "source": [
    "# Standard imports\n",
    "import numpy as np\n",
    "from scipy.io import savemat \n",
    "import sys\n",
    "import os\n",
    "from glob import glob\n",
    "import pandas as pd\n",
    "import seaborn as sb\n",
    "import matplotlib.pylab as plt\n",
    "\n",
    "# Imports from spinkyDemo\n",
    "from spinkyDemo import training_process, test_process, readDetectorOutput\n",
    "from spinkyDemo import sensitivity, specificity, PPV, MCC, cohenk, F1"
   ]
  },
  {
   "cell_type": "markdown",
   "metadata": {},
   "source": [
    "Defining some constants...\n",
    "---------------------------"
   ]
  },
  {
   "cell_type": "code",
   "execution_count": 40,
   "metadata": {
    "collapsed": true
   },
   "outputs": [],
   "source": [
    "# Constants to change by the user depending on the type of detection and the data source wanted...\n",
    "\n",
    "mode         = 'spindles'      # 'kcomplex' to detect K-complexes\n",
    "                               # 'spindles' to detect spindles     \n",
    "data_source  = 'SPINKY'        # DREAMS to use the DREAMS database\n",
    "                               # SPINKY to use the sample provided with the SPINKY toolbox"
   ]
  },
  {
   "cell_type": "code",
   "execution_count": 53,
   "metadata": {
    "collapsed": false
   },
   "outputs": [],
   "source": [
    "#Defining appropriate contants that depends on the type of detection and the data source...\n",
    "\n",
    "pageDuration = 30.0 # Page length, in seconds;\n",
    "if data_source == 'DREAMS':\n",
    "    nbTrainPage  = int(5*60/pageDuration)   # Number of pages to use for the training. Using 5 min of training.\n",
    "    \n",
    "    if mode == \"spindles\":\n",
    "        eegFileName     = \"excerpt5.txt\"\n",
    "        scoringFileName = \"Visual_scoring1_excerpt5.txt\"\n",
    "        hypnoFileName   = \"Hypnogram_excerpt5.txt\"\n",
    "        subjectName     = \"excerpt5\"\n",
    "        fs              = 200.0       # Sampling frequency, in Hz\n",
    "        from spinkyDemo import sp_thresholds_ranges as thresholds_ranges\n",
    "        outputFileName  = \"score_auto_spindles_\" + subjectName + \".txt\"\n",
    "\n",
    "    elif mode == \"kcomplex\":\n",
    "        eegFileName     = \"excerpt2.txt\"\n",
    "        scoringFileName = \"Visual_scoring1_excerpt2.txt\"\n",
    "        hypnoFileName   = \"Hypnogram_excerpt2.txt\"\n",
    "        subjectName     = \"excerpt2\"\n",
    "        fs              = 200.0       # Sampling frequency, in Hz   \n",
    "        from spinkyDemo import kp_thresholds_ranges as thresholds_ranges \n",
    "        outputFileName  = \"score_auto_Kcomplex_\" + subjectName + \".txt\"\n",
    "\n",
    "    else:\n",
    "        raise ValueError(\"The 'mode' must be equal to 'spindles' or 'kcomplex'. Current value: '%s'\" % mode)\n",
    "        \n",
    "elif data_source == 'SPINKY':\n",
    "\n",
    "    if mode == \"spindles\":\n",
    "        eegFileName_train     = os.path.join(spinkyPath, \"training_data.mat\")\n",
    "        eegFileName_test      = os.path.join(spinkyPath, \"test_data.mat\")\n",
    "        scoringFileName_test  = os.path.join(spinkyPath, \"Spindles_visual_score_test_data.txt\")\n",
    "        scoringFileName_train = os.path.join(spinkyPath, \"Spindles_visual_score_training_data.txt\")\n",
    "        \n",
    "        subjectName     = \"spinkySubject\"\n",
    "        fs              = 1000.0           # Sampling frequency, in Hz\n",
    "\n",
    "        from spinkyDemo import sp_thresholds_ranges as thresholds_ranges \n",
    "        outputFileName  = \"score_auto_spindles_\" + subjectName + \".txt\"\n",
    "\n",
    "    elif mode == \"kcomplex\":\n",
    "        raise ValueError(\"No K-complex detection is available for SPINKY's sample. To use this \" +\n",
    "                         \"data source, 'mode' must be equal to 'spindles'.\")\n",
    "        \n",
    "    else:\n",
    "        raise ValueError(\"When using the SPINKY sample, the 'mode' must be equal to 'spindles'.\" +\n",
    "                         \" Current value: '%s'\" % mode)\n",
    "        \n",
    "else:\n",
    "    ValueError(\"The 'data_source' must be equal to 'DREAMS' or 'SPINKY'. Current value: '%s'\" % data_source)\n",
    "\n",
    "samplePerPage   = int(pageDuration*fs)"
   ]
  },
  {
   "cell_type": "markdown",
   "metadata": {},
   "source": [
    "Preparing the training and testing signals\n",
    "---------------------"
   ]
  },
  {
   "cell_type": "code",
   "execution_count": 85,
   "metadata": {
    "collapsed": false
   },
   "outputs": [],
   "source": [
    "if data_source == 'DREAMS':\n",
    "    eegSig          = pd.read_csv(eegFileName, names=[\"signal\"], skiprows=[0])[\"signal\"].values\n",
    "    stages          = pd.read_csv(hypnoFileName, names=[\"stage\"], skiprows=[0])[\"stage\"].values[::6] #Hyponogram scored every 5s for DREAMS\n",
    "    scoring         = pd.read_csv(scoringFileName, sep=\"\\t\", names=[\"start\", \"duration\"], skiprows=[0])\n",
    "    scoringStart    = scoring[\"start\"].values\n",
    "    scoringDuration = scoring[\"duration\"].values\n",
    "    numberOfPages   = int(len(eegSig)/samplePerPage)\n",
    "\n",
    "    # Getting signals based on two mutually exclusive set of pages for training and testing\n",
    "    np.random.seed(42)\n",
    "    pageIds      = [i for i in range(numberOfPages) if int(stages[i]) == 2]\n",
    "    pageIds      = [i for i in range(numberOfPages) if int(stages[i]) == 2 and i*pageDuration < 1000.0]\n",
    "\n",
    "\n",
    "    trainPageIds = np.random.choice(pageIds, nbTrainPage, replace=False)\n",
    "    trainSig     = eegSig[np.concatenate([np.arange(samplePerPage)+i*samplePerPage \n",
    "                                          for i in pageIds if i in trainPageIds])]\n",
    "    testSig      = eegSig[np.concatenate([np.arange(samplePerPage)+i*samplePerPage \n",
    "                                          for i in pageIds if not i in trainPageIds])]\n",
    "\n",
    "    # Calculating the number of spindles scored in the training pages\n",
    "    def eventInPage(eventStart, pageId):\n",
    "        pageStart = pageId*pageDuration\n",
    "        pageEnd   = pageStart + pageDuration    \n",
    "        return (eventStart >= pageStart)*(eventStart < pageEnd)\n",
    "\n",
    "    nbEvents = [sum(eventInPage(scoringStart, pageId)) for pageId in trainPageIds]   \n",
    "    \n",
    "    \n",
    "elif data_source == 'SPINKY':\n",
    "    trainSig             = scipy.io.loadmat(eegFileName_train)[\"mat\"][0]\n",
    "    testSig              = scipy.io.loadmat(eegFileName_test)[\"mat\"][0]\n",
    "\n",
    "    numberOfPages_train  = int(len(trainSig)/samplePerPage)\n",
    "    numberOfPages_test   = int(len(testSig)/samplePerPage)\n",
    "\n",
    "    scoring_test         = pd.read_csv(scoringFileName_test, sep=\" \", names=[\"pageNo\", \"start\", \"end\"], \n",
    "                                       index_col=False, skipinitialspace=True)\n",
    "    scoringStart_test    = scoring_test[\"start\"].values\n",
    "    scoringDuration_test = scoring_test[\"end\"].values - scoringStart_test \n",
    "\n",
    "\n",
    "    scoring_train        = pd.read_csv(scoringFileName_train, sep=\" \", names=[\"pageNo\", \"start\", \"end\"], \n",
    "                                       index_col=False, skipinitialspace=True)\n",
    "    scoringStart_train   = scoring_train[\"start\"].values\n",
    "    scoringDuration_train= scoring_train[\"end\"].values - scoringStart_train  \n",
    "\n",
    "    nbEvents = [sum(scoring_train[\"pageNo\"] == indPage+1) for indPage in range(numberOfPages_train)]\n",
    "\n",
    "    \n",
    "else:\n",
    "    ValueError(\"The 'data_source' must be equal to 'DREAMS' or 'SPINKY'. Current value: '%s'\" % data_source)\n"
   ]
  },
  {
   "cell_type": "markdown",
   "metadata": {},
   "source": [
    "Starting Matlab and adding necessary paths to Matlab environement variable\n",
    "--------"
   ]
  },
  {
   "cell_type": "code",
   "execution_count": 80,
   "metadata": {
    "collapsed": false
   },
   "outputs": [
    {
     "name": "stdout",
     "output_type": "stream",
     "text": [
      "Starting MATLAB on ZMQ socket ipc:///tmp/pymatbridge-27ea6d3e-4169-47bf-b8b5-b4477b64bfb3\n",
      "Send 'exit' command to kill the server\n",
      "..........MATLAB started and connected!\n"
     ]
    }
   ],
   "source": [
    "from pymatbridge import Matlab\n",
    "mlab = Matlab(maxtime=60) #Matlab(matlab='C:/Program Files/MATLAB/R2015a/bin/matlab.exe')\n",
    "mlab.start()\n",
    "\n",
    "matlabCode = \\\n",
    "\"rootPath = '\" + spinkyPath + \"/'; \\n\" + \"\"\"\n",
    "addpath(rootPath) \n",
    "addpath([rootPath 'functions'])\n",
    "addpath([rootPath 'functions/tqwt_matlab_toolbox/tqwt_matlab_toolbox'])\n",
    "\"\"\"\n",
    "result = mlab.run_code(matlabCode)"
   ]
  },
  {
   "cell_type": "markdown",
   "metadata": {},
   "source": [
    "Example of threshold estimation (for spindles detection)\n",
    "---------------"
   ]
  },
  {
   "cell_type": "code",
   "execution_count": 81,
   "metadata": {
    "collapsed": false
   },
   "outputs": [],
   "source": [
    "threshold = thresholds_ranges(mlab, trainSig, samplePerPage, fs)[0]"
   ]
  },
  {
   "cell_type": "code",
   "execution_count": 82,
   "metadata": {
    "collapsed": false
   },
   "outputs": [
    {
     "name": "stdout",
     "output_type": "stream",
     "text": [
      "Threshold: 151\n"
     ]
    }
   ],
   "source": [
    "threshold = training_process(mlab, trainSig, fs, samplePerPage, mode, threshold, nbEvents)\n",
    "print(\"Threshold:\", threshold) "
   ]
  },
  {
   "cell_type": "markdown",
   "metadata": {},
   "source": [
    "Example of spindle detection\n",
    "---------------"
   ]
  },
  {
   "cell_type": "code",
   "execution_count": 84,
   "metadata": {
    "collapsed": false
   },
   "outputs": [
    {
     "data": {
      "text/plain": [
       "array([[ 5.,  5.,  1.,  3.,  2.,  3.,  1.,  1.,  3.,  0.]])"
      ]
     },
     "execution_count": 84,
     "metadata": {},
     "output_type": "execute_result"
    }
   ],
   "source": [
    "# This call create a file named score_auto_YYYYYY_XXXXXX.txt where XXXXXX is the value of subjectName\n",
    "# and YYYYYY takes eithers spindles or Kcomplex depending on the value of mode.\n",
    "if os.path.isfile(outputFileName):\n",
    "    os.remove(outputFileName)\n",
    "test_process(mlab, testSig, fs, samplePerPage, subjectName, threshold, mode)"
   ]
  },
  {
   "cell_type": "markdown",
   "metadata": {},
   "source": [
    "Closing Matlab\n",
    "-----------------------"
   ]
  },
  {
   "cell_type": "code",
   "execution_count": 86,
   "metadata": {
    "collapsed": false
   },
   "outputs": [
    {
     "data": {
      "text/plain": [
       "{'content': {'stdout': 'Too many output arguments.'},\n",
       " 'result': '',\n",
       " 'success': False}"
      ]
     },
     "execution_count": 86,
     "metadata": {},
     "output_type": "execute_result"
    }
   ],
   "source": [
    "mlab.quit()"
   ]
  },
  {
   "cell_type": "markdown",
   "metadata": {},
   "source": [
    "Example of performance assessment\n",
    "---------------"
   ]
  },
  {
   "cell_type": "code",
   "execution_count": 35,
   "metadata": {
    "collapsed": false
   },
   "outputs": [
    {
     "name": "stdout",
     "output_type": "stream",
     "text": [
      "\n",
      "sensitivity=0.539815, specificity=0.963501, PPV=0.458349,  MCC=0.466161, CohenK=0.464406, F1=0.495758\n",
      "\n"
     ]
    }
   ],
   "source": [
    "def makeIndexSignal(events, epoch_length, fs):    \n",
    "    index = np.zeros((int(epoch_length*fs), 1))\n",
    "    for s, e in events:\n",
    "        index[int(np.round(s*fs)):int(np.round(e*fs))] = 1\n",
    "    return index\n",
    "    \n",
    "    \n",
    "def compute2classComp(indGold, indTest):    \n",
    "    \n",
    "    TP = np.logical_and(indGold, indTest)\n",
    "    TN = np.logical_and(np.logical_not(indGold), np.logical_not(indTest)) \n",
    "    FP = np.logical_and(np.logical_not(indGold), indTest)\n",
    "    FN = np.logical_and(indGold, np.logical_not(indTest))\n",
    "\n",
    "    return TP, TN, FP, FN\n",
    "\n",
    "\n",
    "def prinResults(TP, TN, FP, FN):\n",
    "    res = ( sensitivity(TP, TN, FP, FN), \n",
    "            specificity(TP, TN, FP, FN),\n",
    "            PPV(TP, TN, FP, FN), \n",
    "            MCC(TP, TN, FP, FN),\n",
    "            cohenk(TP, TN, FP, FN), \n",
    "            F1(TP, TN, FP, FN))\n",
    "    print((\"sensitivity=%f, specificity=%f, PPV=%f,  MCC=%f, CohenK=%f, F1=%f\" % res))     \n",
    "    return res\n",
    "\n",
    "detectedEvents = readDetectorOutput(outputFileName, mode)\n",
    "\n",
    "TP = []\n",
    "TN = [] \n",
    "FP = []\n",
    "FN = []\n",
    "\n",
    "indGoldAll = []\n",
    "indTestAll = []\n",
    "\n",
    "if data_source == 'SPINKY':\n",
    "    pageIds_test = range(numberOfPages_test)\n",
    "elif data_source == 'DREAMS':\n",
    "    pageIds_test = [pageId for pageId in pageIds if not pageId in trainPageIds]\n",
    "    \n",
    "detectedPageNo = 0\n",
    "for pageId in pageIds_test:\n",
    "\n",
    "    detectedPageNo += 1\n",
    "\n",
    "    pageStart = pageId*pageDuration\n",
    "    pageEnd   = pageStart + pageDuration  \n",
    "\n",
    "    eventPage = []\n",
    "    if mode == \"spindles\":\n",
    "        eventPage = [(eStart - pageStart, eStart + eDuration - pageStart) \n",
    "                        for eStart, eDuration in zip(scoringStart, scoringDuration) \n",
    "                                       if eventInPage(eStart, pageId)]\n",
    "\n",
    "        detectEventPage = [(event[\"start\"], event[\"end\"]) for index, event \n",
    "                             in detectedEvents[detectedEvents[\"page\"] == detectedPageNo].iterrows()]            \n",
    "\n",
    "    elif mode == \"kcomplex\":\n",
    "        for eStart, eDuration in zip(scoringStart, scoringDuration):\n",
    "            if eventInPage(eStart, pageId):\n",
    "                sig = eegSig[np.arange(int(eStart*fs), int((eStart+eDuration)*fs))]                \n",
    "                pic = eStart - pageStart + float(np.argmin(sig))/fs\n",
    "                eventPage.append((pic-0.1, pic+1.3))    \n",
    "\n",
    "        detectEventPage = [(event[\"time\"]-0.1, event[\"time\"]+1.3) for index, event \n",
    "                             in detectedEvents[detectedEvents[\"page\"] == detectedPageNo].iterrows()]                \n",
    "\n",
    "    indGold = makeIndexSignal(eventPage, pageDuration, fs)\n",
    "    indTest = makeIndexSignal(detectEventPage, pageDuration, fs)\n",
    "\n",
    "    indGoldAll.extend(indGold)\n",
    "    indTestAll.extend(indTest)\n",
    "\n",
    "    TPtmp, TNtmp, FPtmp, FNtmp = compute2classComp(indGold, indTest)\n",
    "    TP.extend(TPtmp)\n",
    "    TN.extend(TNtmp)\n",
    "    FP.extend(FPtmp)\n",
    "    FN.extend(FNtmp)    \n",
    "\n",
    "\n",
    "    \n",
    "else:\n",
    "    ValueError(\"The 'data_source' must be equal to 'DREAMS' or 'SPINKY'. Current value: '%s'\" % data_source)\n",
    "\n",
    "\n",
    "\n",
    "print(\"\")\n",
    "prinResults(np.sum(TP, dtype=np.int64), \n",
    "            np.sum(TN, dtype=np.int64), \n",
    "            np.sum(FP, dtype=np.int64), \n",
    "            np.sum(FN, dtype=np.int64))\n",
    "print(\"\")"
   ]
  },
  {
   "cell_type": "code",
   "execution_count": 33,
   "metadata": {
    "collapsed": false
   },
   "outputs": [
    {
     "data": {
      "text/plain": [
       "<matplotlib.text.Text at 0x7ff312078e80>"
      ]
     },
     "execution_count": 33,
     "metadata": {},
     "output_type": "execute_result"
    },
    {
     "data": {
      "image/png": "[encoded data removed]",
      "text/plain": [
       "<matplotlib.figure.Figure at 0x7ff31208d780>"
      ]
     },
     "metadata": {},
     "output_type": "display_data"
    }
   ],
   "source": [
    "%matplotlib inline\n",
    "\n",
    "fig, axes = plt.subplots(2, 1, figsize=(16, 4), sharex=True)\n",
    "axes[0].plot(np.arange(len(indGoldAll))/fs, indGoldAll)\n",
    "axes[0].set_title(\"Expert scoring\")\n",
    "\n",
    "axes[1].plot(np.arange(len(indTestAll))/fs, indTestAll)\n",
    "axes[1].set_title(\"Automated scoring\")\n",
    "axes[1].set_xlabel(\"time (s)\")\n"
   ]
  }
 ],
 "metadata": {
  "kernelspec": {
   "display_name": "Python 3",
   "language": "python",
   "name": "python3"
  },
  "language_info": {
   "codemirror_mode": {
    "name": "ipython",
    "version": 3
   },
   "file_extension": ".py",
   "mimetype": "text/x-python",
   "name": "python",
   "nbconvert_exporter": "python",
   "pygments_lexer": "ipython3",
   "version": "3.4.3"
  }
 },
 "nbformat": 4,
 "nbformat_minor": 0
}
